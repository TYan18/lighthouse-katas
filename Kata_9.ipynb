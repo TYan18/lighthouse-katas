{
 "cells": [
  {
   "cell_type": "code",
   "execution_count": 18,
   "metadata": {},
   "outputs": [],
   "source": [
    "def camelCase(data):\n",
    "    empstr = \"\"\n",
    "    stripped = data.strip()\n",
    "    empstr += data[0]\n",
    "    for i in range(1, len(data)):\n",
    "        if data[i] == \" \":\n",
    "            empstr += data[i + 1].upper()\n",
    "        elif data [i - 1] == \" \" and data[i] != \" \":\n",
    "            continue\n",
    "        else:    \n",
    "            empstr += data[i]\n",
    "    \n",
    "    return empstr\n",
    "            "
   ]
  },
  {
   "cell_type": "code",
   "execution_count": null,
   "metadata": {},
   "outputs": [],
   "source": []
  }
 ],
 "metadata": {
  "kernelspec": {
   "display_name": "Python 3",
   "language": "python",
   "name": "python3"
  },
  "language_info": {
   "codemirror_mode": {
    "name": "ipython",
    "version": 3
   },
   "file_extension": ".py",
   "mimetype": "text/x-python",
   "name": "python",
   "nbconvert_exporter": "python",
   "pygments_lexer": "ipython3",
   "version": "3.8.5"
  }
 },
 "nbformat": 4,
 "nbformat_minor": 4
}

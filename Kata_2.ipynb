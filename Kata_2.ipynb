{
 "cells": [
  {
   "cell_type": "code",
   "execution_count": 2,
   "metadata": {},
   "outputs": [],
   "source": [
    "def conditionalSum(values, condition):\n",
    "    if len(values) == 0:\n",
    "        return 0\n",
    "    else:\n",
    "        total = 0\n",
    "        if condition == \"odd\":\n",
    "            for value in values:\n",
    "                if value % 2 != 0:\n",
    "                    total += value\n",
    "        elif condition == \"even\":\n",
    "            for value in values:\n",
    "                if value % 2 == 0:\n",
    "                    total += value\n",
    "        else:\n",
    "            return \"Invalid condition\"\n",
    "        \n",
    "        return total\n",
    "            "
   ]
  },
  {
   "cell_type": "code",
   "execution_count": null,
   "metadata": {},
   "outputs": [],
   "source": []
  }
 ],
 "metadata": {
  "kernelspec": {
   "display_name": "Python 3",
   "language": "python",
   "name": "python3"
  },
  "language_info": {
   "codemirror_mode": {
    "name": "ipython",
    "version": 3
   },
   "file_extension": ".py",
   "mimetype": "text/x-python",
   "name": "python",
   "nbconvert_exporter": "python",
   "pygments_lexer": "ipython3",
   "version": "3.8.5"
  }
 },
 "nbformat": 4,
 "nbformat_minor": 4
}

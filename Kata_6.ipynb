{
 "cells": [
  {
   "cell_type": "code",
   "execution_count": 30,
   "metadata": {},
   "outputs": [],
   "source": [
    "def whereCanIPark(spots, vehicle):\n",
    "    location = []\n",
    "    for i in range(len(spots)):\n",
    "        for j in range(len(spots[0])):\n",
    "            if vehicle == 'regular':\n",
    "                if spots[i][j] == 'R':\n",
    "                    location.append(j)\n",
    "                    location.append(i)\n",
    "                    return location\n",
    "                    break\n",
    "            elif vehicle == 'small':\n",
    "                if spots[i][j] == 'R' or spots[i][j] == 'S':\n",
    "                    location.append(j)\n",
    "                    location.append(i)\n",
    "                    return location\n",
    "                    break\n",
    "            elif vehicle == 'motorcycle':\n",
    "                if spots[i][j] == 'R' or spots[i][j] == 'S' or spots[i][j] == 'M':\n",
    "                    location.append(j)\n",
    "                    location.append(i)\n",
    "                    return location\n",
    "                    break\n",
    "            else:\n",
    "                return \"Invalid vehicle type\"\n",
    "        \n",
    "    if location == []:\n",
    "        return \"false\""
   ]
  },
  {
   "cell_type": "code",
   "execution_count": null,
   "metadata": {},
   "outputs": [],
   "source": []
  }
 ],
 "metadata": {
  "kernelspec": {
   "display_name": "Python 3",
   "language": "python",
   "name": "python3"
  },
  "language_info": {
   "codemirror_mode": {
    "name": "ipython",
    "version": 3
   },
   "file_extension": ".py",
   "mimetype": "text/x-python",
   "name": "python",
   "nbconvert_exporter": "python",
   "pygments_lexer": "ipython3",
   "version": "3.8.5"
  }
 },
 "nbformat": 4,
 "nbformat_minor": 4
}

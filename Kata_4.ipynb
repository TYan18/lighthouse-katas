{
 "cells": [
  {
   "cell_type": "code",
   "execution_count": 19,
   "metadata": {},
   "outputs": [],
   "source": [
    "def instructorWithLongestName(instructors):\n",
    "    longest = \"\"\n",
    "    position = 0\n",
    "    if len(instructors) == 0:\n",
    "        return \"Empty list!\"\n",
    "    else:\n",
    "        for i in range(len(instructors)):\n",
    "            instructor = instructors[i]\n",
    "            if len(instructor) == 0:\n",
    "                return \"Empty dictionary!\"\n",
    "            else:\n",
    "                length = len(instructor[\"name\"])\n",
    "                if len(instructor[\"name\"]) > len(longest):\n",
    "                    longest = instructor[\"name\"]\n",
    "                    position = i\n",
    "                     \n",
    "    return instructors[position]"
   ]
  },
  {
   "cell_type": "code",
   "execution_count": null,
   "metadata": {},
   "outputs": [],
   "source": []
  }
 ],
 "metadata": {
  "kernelspec": {
   "display_name": "Python 3",
   "language": "python",
   "name": "python3"
  },
  "language_info": {
   "codemirror_mode": {
    "name": "ipython",
    "version": 3
   },
   "file_extension": ".py",
   "mimetype": "text/x-python",
   "name": "python",
   "nbconvert_exporter": "python",
   "pygments_lexer": "ipython3",
   "version": "3.8.5"
  }
 },
 "nbformat": 4,
 "nbformat_minor": 4
}

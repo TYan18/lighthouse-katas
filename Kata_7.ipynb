{
 "cells": [
  {
   "cell_type": "code",
   "execution_count": 5,
   "metadata": {},
   "outputs": [],
   "source": [
    "def checkAir(samples, threshold):\n",
    "    dirty = 0\n",
    "    total = len(samples)\n",
    "    for sample in samples:\n",
    "        if sample == 'dirty':\n",
    "            dirty += 1\n",
    "    percent = dirty / total\n",
    "    if percent > threshold:\n",
    "        return \"Polluted\"\n",
    "    else:\n",
    "        return \"Clean\""
   ]
  },
  {
   "cell_type": "code",
   "execution_count": null,
   "metadata": {},
   "outputs": [],
   "source": []
  }
 ],
 "metadata": {
  "kernelspec": {
   "display_name": "Python 3",
   "language": "python",
   "name": "python3"
  },
  "language_info": {
   "codemirror_mode": {
    "name": "ipython",
    "version": 3
   },
   "file_extension": ".py",
   "mimetype": "text/x-python",
   "name": "python",
   "nbconvert_exporter": "python",
   "pygments_lexer": "ipython3",
   "version": "3.8.5"
  }
 },
 "nbformat": 4,
 "nbformat_minor": 4
}
